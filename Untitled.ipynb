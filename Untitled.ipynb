{
 "cells": [
  {
   "cell_type": "markdown",
   "metadata": {},
   "source": [
    "Given an array nums of n integers where n > 1,  return an array output such that output[i] is equal to the product of all the elements of nums except nums[i].\n",
    "\n",
    "Example:\n",
    "\n",
    "Input:  [1,2,3,4]\n",
    "Output: [24,12,8,6]\n",
    "Constraint: It's guaranteed that the product of the elements of any prefix or suffix of the array (including the whole array) fits in a 32 bit integer.\n",
    "\n",
    "Note: Please solve it without division and in O(n).\n",
    "\n",
    "Follow up:\n",
    "Could you solve it with constant space complexity? (The output array does not count as extra space for the purpose of space complexity analysis.)"
   ]
  },
  {
   "cell_type": "markdown",
   "metadata": {},
   "source": [
    "input_array = [1,2,3,4]Pairs of Songs With Total Durations Divisible by 60 [Leetcode 1010]\n",
    "In a list of songs, the i-th song has a duration of time[i] seconds. \n",
    "Return the number of pairs of songs for which their total duration in seconds is divisible by 60.  Formally, we want the number of indices i, j such that i < j with (time[i] + time[j]) % 60 == 0.\n",
    "Example 1:\n",
    "Input: [30,20,150,100,40]\n",
    "Output: 3\n",
    "Explanation: Three pairs have a total duration divisible by 60:\n",
    "(time[0] = 30, time[2] = 150): total duration 180\n",
    "(time[1] = 20, time[3] = 100): total duration 120\n",
    "(time[1] = 20, time[4] = 40): total duration 60\n",
    "\n",
    "input_array"
   ]
  },
  {
   "cell_type": "code",
   "execution_count": null,
   "metadata": {},
   "outputs": [],
   "source": [
    "input_array = [30,20,150,100,40]"
   ]
  },
  {
   "cell_type": "code",
   "execution_count": 19,
   "metadata": {},
   "outputs": [],
   "source": [
    "# simplest solution - O(n^2) time\n",
    "\n",
    "def find_pairs(input_array):\n",
    "    num_pairs = 0\n",
    "    for counter_i, i in enumerate(input_array):\n",
    "        for counter_j, j in enumerate(input_array):\n",
    "            if counter_i < counter_j and (i + j) % 60 == 0:\n",
    "                num_pairs += 1\n",
    "    return(num_pairs)"
   ]
  },
  {
   "cell_type": "code",
   "execution_count": 20,
   "metadata": {},
   "outputs": [
    {
     "data": {
      "text/plain": [
       "3"
      ]
     },
     "execution_count": 20,
     "metadata": {},
     "output_type": "execute_result"
    }
   ],
   "source": [
    "find_pairs(input_array)"
   ]
  },
  {
   "cell_type": "code",
   "execution_count": 24,
   "metadata": {},
   "outputs": [],
   "source": [
    "# better solution - linear time\n",
    "\n",
    "def find_pairs_faster(input_array):\n",
    "    \n",
    "    # build histogram of remainders\n",
    "    rem = [0]*60\n",
    "    for i in input_array:\n",
    "        rem[i%60] += 1\n",
    "        \n",
    "    # count up self-complementary special cases (n choose k)\n",
    "    res = rem[0]*(rem[0]-1)/2 + rem[30]*(rem[30]-1)/2\n",
    "    \n",
    "    # count up other cases \n",
    "    for i in range(1, 30):\n",
    "        res += rem[i]*rem[60-i]\n",
    "        \n",
    "    return res"
   ]
  },
  {
   "cell_type": "code",
   "execution_count": 26,
   "metadata": {},
   "outputs": [
    {
     "data": {
      "text/plain": [
       "3.0"
      ]
     },
     "execution_count": 26,
     "metadata": {},
     "output_type": "execute_result"
    }
   ],
   "source": [
    "find_pairs_faster(input_array)"
   ]
  },
  {
   "cell_type": "code",
   "execution_count": 27,
   "metadata": {},
   "outputs": [],
   "source": [
    "# Definition for singly-linked list.\n",
    "class ListNode:\n",
    "    def __init__(self, x):\n",
    "        self.val = x\n",
    "        self.next = None\n",
    "        \n",
    "    def getData(self):\n",
    "        return self.val\n",
    "        \n",
    "    def getNext(self):\n",
    "        return self.next\n",
    "        \n",
    "    def setData(self, newdata):\n",
    "        self.data = newdata\n",
    "        \n",
    "    def setNext(self, newnext):\n",
    "        self.next = newnext\n",
    "\n",
    "class linkedlist:\n",
    "    def __init__(self):\n",
    "        self.head = None\n",
    "    \n",
    "    def add(self, val):\n",
    "        temp = ListNode(val) \n",
    "        temp.setNext(self.head)\n",
    "        self.head = temp\n",
    "        \n",
    "    def create(self, arr):\n",
    "        \"\"\"\n",
    "        Form a linked list when given an array (helpful for Leetcode problems)\n",
    "        \"\"\"\n",
    "        arr_rev = arr[::-1]\n",
    "        for val in arr_rev:\n",
    "            self.add(val)\n",
    "            \n",
    "    def remove(self, val):\n",
    "        \n",
    "        \n",
    "    def print_items(self, n):\n",
    "        current = self.head\n",
    "        counter = 0\n",
    "        while (current != None) and (counter <= n):\n",
    "            counter += 1\n",
    "            print(current.getData())\n",
    "            current = current.getNext()\n",
    "            "
   ]
  },
  {
   "cell_type": "code",
   "execution_count": 29,
   "metadata": {},
   "outputs": [
    {
     "name": "stdout",
     "output_type": "stream",
     "text": [
      "4\n",
      "5\n",
      "1\n"
     ]
    }
   ],
   "source": [
    "# Run this snippet\n",
    "my_ll = linkedlist()\n",
    "my_ll.create([4,5,1,9])     # This adds the array to the linked list object.\n",
    "my_ll.print_items(2)         # Prints the number of items up to index 3. You can use this as verification of the linked list data nodes."
   ]
  },
  {
   "cell_type": "raw",
   "metadata": {},
   "source": [
    "Can you write a method/function within the linkedlist class to remove a node.\n",
    "Assume all values are distinct and you’re removing one of those.\n",
    "Example: Remove 1\n",
    "Input linked list: [4,5,1,9]"
   ]
  },
  {
   "cell_type": "code",
   "execution_count": null,
   "metadata": {},
   "outputs": [],
   "source": []
  }
 ],
 "metadata": {
  "kernelspec": {
   "display_name": "Python 3",
   "language": "python",
   "name": "python3"
  },
  "language_info": {
   "codemirror_mode": {
    "name": "ipython",
    "version": 3
   },
   "file_extension": ".py",
   "mimetype": "text/x-python",
   "name": "python",
   "nbconvert_exporter": "python",
   "pygments_lexer": "ipython3",
   "version": "3.7.3"
  },
  "toc": {
   "base_numbering": 1,
   "nav_menu": {},
   "number_sections": true,
   "sideBar": true,
   "skip_h1_title": false,
   "title_cell": "Table of Contents",
   "title_sidebar": "Contents",
   "toc_cell": false,
   "toc_position": {},
   "toc_section_display": true,
   "toc_window_display": false
  }
 },
 "nbformat": 4,
 "nbformat_minor": 4
}
